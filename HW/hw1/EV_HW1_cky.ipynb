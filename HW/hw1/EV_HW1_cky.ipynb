{
 "cells": [
  {
   "cell_type": "code",
   "execution_count": 3,
   "id": "1708b369",
   "metadata": {},
   "outputs": [
    {
     "name": "stdout",
     "output_type": "stream",
     "text": [
      "15.322227135703345\n",
      "Correct\n"
     ]
    }
   ],
   "source": [
    "\n",
    "\n",
    "input = open('C:/Users/msii/Desktop/assn1_input.txt')\n",
    "output1 = open('C:/Users/msii/Desktop/fixed.out.txt','w')\n",
    "output2 = open('C:/Users/msii/Desktop/animals.out.txt','w')\n",
    "i=0\n",
    "\n",
    "'''\n",
    "PART I  : Using a list and sorting the Int numbers form biggest to smallest\n",
    "'''\n",
    "# make the input txt stores in list with type = string and no \\n and % includes\n",
    "str1 = input.read()\n",
    "str2 = str1.replace(\"%\",\"\\n\",)\n",
    "str2 = str2.strip()\n",
    "list1 = str2.split('\\n')\n",
    "\n",
    "#print(list1)   check the list1 are all correct string without \\n and %\n",
    "#print(len(list1))    check the length of list\n",
    "\n",
    "numbers = [int(temp)for temp in list1 if temp.isdigit()]\n",
    "\n",
    "#print(numbers)    check all numbers appear in txt\n",
    "#print(len(numbers))   check how many numbers in it \n",
    "    \n",
    "# Sort the list---numbers--- from biggest to smallest\n",
    "numbers.sort(reverse=True)\n",
    "#print(numbers)\n",
    "\n",
    "# Adds all the Int numbers and changes to Exponential representation\n",
    "sum1 = sum(numbers)\n",
    "\n",
    "from numpy import log as ln\n",
    "sum1 = ln(sum1)\n",
    "#print(sum1)\n",
    "\n",
    "sum1 = format(sum1,'.2e')\n",
    "#print(sum1)\n",
    "'''\n",
    "PART II : Fixed all 'zerba' to 'zebra' and write into fixed.out file\n",
    "'''\n",
    "\n",
    "str3 = str1.replace(\"zerba\",\"zebra\")\n",
    "\n",
    "# Checking whether 'zerba' in string (str3) or not\n",
    "if \"zerba\" in str3:\n",
    "    print(\"Error\")\n",
    "else:\n",
    "    print(\"Correct\")\n",
    "\n",
    "# write only fixed zerba into zebra of assn1_input into fixed.out\n",
    "output1.writelines(str3)\n",
    "output1.close\n",
    "\n",
    "'''\n",
    "PART III : Creates a Dictionary with animal names as keys and a count of occurrences as values\n",
    "Then write the output Dictionary into file 'animals.out' Note: Needs include the correct zebra\n",
    "\n",
    "PART IV : Calculate all animals occurrences in txt\n",
    "'''\n",
    "# Create a list2 with zerba fixed into zebra \n",
    "str3 = str3.replace('%','\\n',)\n",
    "str3 = str3.strip()\n",
    "list2 = str3.split('\\n')\n",
    "\n",
    "# Searching all zebra , dog , monkey , tiger in list2 and store in another 4 list\n",
    "zebra_match = list(filter(lambda x: 'zebra' in x, list2))\n",
    "monkey_match = list(filter(lambda x: 'monkey' in x, list2))\n",
    "dog_match = list(filter(lambda x: 'dog' in x, list2))\n",
    "tiger_match = list(filter(lambda x: 'tiger' in x, list2))\n",
    "\n",
    "# Create Dictionary\n",
    "animals = {'zebra': len(zebra_match), 'monkey': len(monkey_match), 'dog': len(dog_match), 'tiger': len(tiger_match)}\n",
    "total = int(len(zebra_match) + len(monkey_match) + len(dog_match) + len(tiger_match))\n",
    "total_animals = {'total_count': total}\n",
    "\n",
    "# Checking\n",
    "#print(animals)\n",
    "#print(total_animals)\n",
    "\n",
    "'''\n",
    "PART Final : Writes all the output into animals.out txt \n",
    "'''\n",
    "output2.write(str(numbers)+'\\n')\n",
    "output2.write(str(sum1)+'\\n')\n",
    "output2.write(str(animals)+'\\n')\n",
    "output2.write(str(total_animals))\n",
    "output2.close()\n",
    "\n",
    "#Remeber to check the output1 & output2 files!\n",
    "\n"
   ]
  },
  {
   "cell_type": "code",
   "execution_count": 1,
   "id": "13b92550",
   "metadata": {},
   "outputs": [
    {
     "ename": "NameError",
     "evalue": "name 'sum1' is not defined",
     "output_type": "error",
     "traceback": [
      "\u001b[1;31m---------------------------------------------------------------------------\u001b[0m",
      "\u001b[1;31mNameError\u001b[0m                                 Traceback (most recent call last)",
      "Cell \u001b[1;32mIn [1], line 2\u001b[0m\n\u001b[0;32m      1\u001b[0m \u001b[38;5;28;01mfrom\u001b[39;00m \u001b[38;5;21;01mnumpy\u001b[39;00m \u001b[38;5;28;01mimport\u001b[39;00m log \u001b[38;5;28;01mas\u001b[39;00m ln\n\u001b[1;32m----> 2\u001b[0m x \u001b[38;5;241m=\u001b[39m ln(\u001b[43msum1\u001b[49m)\n\u001b[0;32m      3\u001b[0m \u001b[38;5;28mprint\u001b[39m(sum1)\n",
      "\u001b[1;31mNameError\u001b[0m: name 'sum1' is not defined"
     ]
    }
   ],
   "source": []
  },
  {
   "cell_type": "code",
   "execution_count": null,
   "id": "9120dba3",
   "metadata": {},
   "outputs": [],
   "source": []
  }
 ],
 "metadata": {
  "kernelspec": {
   "display_name": "Python 3 (ipykernel)",
   "language": "python",
   "name": "python3"
  },
  "language_info": {
   "codemirror_mode": {
    "name": "ipython",
    "version": 3
   },
   "file_extension": ".py",
   "mimetype": "text/x-python",
   "name": "python",
   "nbconvert_exporter": "python",
   "pygments_lexer": "ipython3",
   "version": "3.10.7"
  }
 },
 "nbformat": 4,
 "nbformat_minor": 5
}
